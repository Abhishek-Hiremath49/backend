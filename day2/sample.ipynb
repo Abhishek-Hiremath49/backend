{
 "cells": [
  {
   "cell_type": "code",
   "execution_count": null,
   "id": "78da38ce",
   "metadata": {},
   "outputs": [
    {
     "name": "stdout",
     "output_type": "stream",
     "text": [
      "John 21\n",
      "Alice 22\n"
     ]
    }
   ],
   "source": [
    "class Student:\n",
    "    def __init__(self, name, age):\n",
    "        self.name = name   # Assign value to object attribute\n",
    "        self.age = age\n",
    "\n",
    "# Create objects\n",
    "s1 = Student(\"John\", 21)\n",
    "s2 = Student(\"Alice\", 22)\n",
    "\n",
    "print(s1.name, s1.age)  # John 21\n",
    "print(s2.name, s2.age)  # Alice 22\n"
   ]
  }
 ],
 "metadata": {
  "kernelspec": {
   "display_name": "Python 3",
   "language": "python",
   "name": "python3"
  },
  "language_info": {
   "codemirror_mode": {
    "name": "ipython",
    "version": 3
   },
   "file_extension": ".py",
   "mimetype": "text/x-python",
   "name": "python",
   "nbconvert_exporter": "python",
   "pygments_lexer": "ipython3",
   "version": "3.12.10"
  }
 },
 "nbformat": 4,
 "nbformat_minor": 5
}
